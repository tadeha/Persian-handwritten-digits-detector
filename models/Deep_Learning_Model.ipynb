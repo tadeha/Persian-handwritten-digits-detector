{
  "nbformat": 4,
  "nbformat_minor": 0,
  "metadata": {
    "colab": {
      "name": "Uni Project DL.ipynb",
      "provenance": [],
      "collapsed_sections": [],
      "toc_visible": true,
      "machine_shape": "hm"
    },
    "kernelspec": {
      "name": "python3",
      "display_name": "Python 3"
    },
    "accelerator": "GPU"
  },
  "cells": [
    {
      "cell_type": "markdown",
      "metadata": {
        "id": "fjm-HNt2bQlW"
      },
      "source": [
        "# Initial Config"
      ]
    },
    {
      "cell_type": "markdown",
      "metadata": {
        "id": "AayBXJDTbTax"
      },
      "source": [
        "## Copy data from Google Drive"
      ]
    },
    {
      "cell_type": "code",
      "metadata": {
        "id": "jHsMwYkUbCui"
      },
      "source": [
        "!cp /content/drive/My\\ Drive/UniProject2020/data/* ./"
      ],
      "execution_count": null,
      "outputs": []
    },
    {
      "cell_type": "markdown",
      "metadata": {
        "id": "LzJxyYkkeWa6"
      },
      "source": [
        "# Analysis of the HODA dataset"
      ]
    },
    {
      "cell_type": "markdown",
      "metadata": {
        "id": "vt5YeT3LbV0z"
      },
      "source": [
        "## Import"
      ]
    },
    {
      "cell_type": "code",
      "metadata": {
        "id": "JgCp8qibbxX9",
        "colab": {
          "base_uri": "https://localhost:8080/",
          "height": 34
        },
        "outputId": "39e89898-36b8-4f32-e9f6-f72a5329605f"
      },
      "source": [
        "import tensorflow as tf\n",
        "from tensorflow import keras\n",
        "from tensorflow.keras import layers\n",
        "from tensorflow.keras import backend as K\n",
        "from keras.utils import np_utils\n",
        "\n",
        "import matplotlib.pyplot as plt\n",
        "%matplotlib inline\n",
        "import matplotlib.cm as cm\n",
        "\n",
        "import numpy as np\n",
        "\n",
        "from HodaDatasetReader import read_hoda_dataset"
      ],
      "execution_count": null,
      "outputs": [
        {
          "output_type": "stream",
          "text": [
            "Using TensorFlow backend.\n"
          ],
          "name": "stderr"
        }
      ]
    },
    {
      "cell_type": "markdown",
      "metadata": {
        "id": "PUdCR3BbcTvE"
      },
      "source": [
        "## Load Data"
      ]
    },
    {
      "cell_type": "code",
      "metadata": {
        "id": "GpP7pl7fcT6s",
        "colab": {
          "base_uri": "https://localhost:8080/",
          "height": 34
        },
        "outputId": "f7eb95ca-843f-437f-a62c-75bcddde499f"
      },
      "source": [
        "print('Reading train dataset (Train 60000.cdb)...')\n",
        "X_train, y_train = read_hoda_dataset(dataset_path='Train 60000.cdb',\n",
        "                                images_height=32,\n",
        "                                images_width=32,\n",
        "                                one_hot=False,\n",
        "                                reshape=False)"
      ],
      "execution_count": null,
      "outputs": [
        {
          "output_type": "stream",
          "text": [
            "Reading train dataset (Train 60000.cdb)...\n"
          ],
          "name": "stdout"
        }
      ]
    },
    {
      "cell_type": "code",
      "metadata": {
        "id": "tpJWF9K7cVhE",
        "colab": {
          "base_uri": "https://localhost:8080/",
          "height": 34
        },
        "outputId": "49a0bc3b-4d3f-4e81-e45d-df41fe767a3e"
      },
      "source": [
        "print('Reading test dataset (Test 20000.cdb)...')\n",
        "X_test, y_test = read_hoda_dataset(dataset_path='Test 20000.cdb',\n",
        "                              images_height=32,\n",
        "                              images_width=32,\n",
        "                              one_hot=False,\n",
        "                              reshape=False)"
      ],
      "execution_count": null,
      "outputs": [
        {
          "output_type": "stream",
          "text": [
            "Reading test dataset (Test 20000.cdb)...\n"
          ],
          "name": "stdout"
        }
      ]
    },
    {
      "cell_type": "code",
      "metadata": {
        "id": "xVYie3dsf6Pp",
        "colab": {
          "base_uri": "https://localhost:8080/",
          "height": 289
        },
        "outputId": "a809d32a-10f0-414a-ee4a-5675f775992d"
      },
      "source": [
        "print('type(X_train): ', type(X_train))\n",
        "print('X_train.dtype:', X_train.dtype)\n",
        "print('X_train.shape: (reshape=True), ', X_train.shape)\n",
        "print()\n",
        "\n",
        "print('type(y_train): ', type(y_train))\n",
        "print('y_train.dtype:', y_train.dtype)\n",
        "print('y_train.shape: (one_hot=False), ', y_train.shape)\n",
        "print()\n",
        "\n",
        "print('type(X_test): ', type(X_test))\n",
        "print('X_test.dtype:', X_test.dtype)\n",
        "print('X_test.shape: (reshape=False), ', X_test.shape)\n",
        "print()\n",
        "\n",
        "print('type(y_test): ', type(y_test))\n",
        "print('y_test.dtype:', y_test.dtype)\n",
        "print('y_test.shape: (one_hot=True), ', y_test.shape)\n",
        "print()"
      ],
      "execution_count": null,
      "outputs": [
        {
          "output_type": "stream",
          "text": [
            "type(X_train):  <class 'numpy.ndarray'>\n",
            "X_train.dtype: float32\n",
            "X_train.shape: (reshape=True),  (60000, 32, 32, 1)\n",
            "\n",
            "type(y_train):  <class 'numpy.ndarray'>\n",
            "y_train.dtype: float32\n",
            "y_train.shape: (one_hot=False),  (60000,)\n",
            "\n",
            "type(X_test):  <class 'numpy.ndarray'>\n",
            "X_test.dtype: float32\n",
            "X_test.shape: (reshape=False),  (20000, 32, 32, 1)\n",
            "\n",
            "type(y_test):  <class 'numpy.ndarray'>\n",
            "y_test.dtype: float32\n",
            "y_test.shape: (one_hot=True),  (20000,)\n",
            "\n"
          ],
          "name": "stdout"
        }
      ]
    },
    {
      "cell_type": "markdown",
      "metadata": {
        "id": "YHKoW3kAhRmj"
      },
      "source": [
        "## Prepare Data"
      ]
    },
    {
      "cell_type": "code",
      "metadata": {
        "id": "K45PjUc1VGbQ",
        "colab": {
          "base_uri": "https://localhost:8080/",
          "height": 34
        },
        "outputId": "1a4c2b71-f1e6-4c48-fb8f-37da49b45e57"
      },
      "source": [
        "print(K.image_data_format())"
      ],
      "execution_count": null,
      "outputs": [
        {
          "output_type": "stream",
          "text": [
            "channels_last\n"
          ],
          "name": "stdout"
        }
      ]
    },
    {
      "cell_type": "code",
      "metadata": {
        "id": "2SYCW3nthQuv"
      },
      "source": [
        "def hoda_data(X_train,y_train,X_test,y_test):\n",
        "    # input image dimensions\n",
        "    img_rows, img_cols = 32, 32\n",
        "\n",
        "    if K.image_data_format() == 'channels_first':\n",
        "        X_train = X_train.reshape(X_train.shape[0], 1, img_rows, img_cols)\n",
        "        X_test = X_test.reshape(X_test.shape[0], 1, img_rows, img_cols)\n",
        "        input_shape = (1, img_rows, img_cols)\n",
        "    else:\n",
        "        X_train = X_train.reshape(X_train.shape[0], img_rows, img_cols, 1)\n",
        "        X_test = X_test.reshape(X_test.shape[0], img_rows, img_cols, 1)\n",
        "        input_shape = (img_rows, img_cols, 1)\n",
        "\n",
        "    # rescale [0,255] --> [0,1]\n",
        "    # X_train = X_train.astype('float32')/255\n",
        "    # X_test = X_test.astype('float32')/255\n",
        "    # https://stackoverflow.com/questions/39164786/invert-0-and-1-in-a-binary-array\n",
        "    # X_train = np.logical_not(X_train).astype('float32')\n",
        "    # X_test = np.logical_not(X_test).astype('float32')\n",
        "\n",
        "    # tranform to one hot encoding\n",
        "    y_train = np_utils.to_categorical(y_train, 10)\n",
        "    y_test = np_utils.to_categorical(y_test, 10)\n",
        "\n",
        "    return (X_train, y_train), (X_test, y_test)\n",
        "\n",
        "(X_train, y_train), (X_test, y_test) = hoda_data(X_train,y_train,X_test,y_test)"
      ],
      "execution_count": null,
      "outputs": []
    },
    {
      "cell_type": "markdown",
      "metadata": {
        "id": "7twpjKH7cmCX"
      },
      "source": [
        "## Visualization"
      ]
    },
    {
      "cell_type": "code",
      "metadata": {
        "id": "SSk-FYhYcYkm",
        "colab": {
          "base_uri": "https://localhost:8080/",
          "height": 188
        },
        "outputId": "88236faf-d66b-4a90-ea0a-f715fd339465"
      },
      "source": [
        "fig = plt.figure(figsize=(20,20))\n",
        "for i in range(5):\n",
        "    ax = fig.add_subplot(3, 5, i+1, xticks=[], yticks=[])\n",
        "    ax.imshow(X_train[i].reshape(32,32))\n",
        "    ax.set_title(str(y_train[i]))"
      ],
      "execution_count": null,
      "outputs": [
        {
          "output_type": "display_data",
          "data": {
            "image/png": "[encoded data removed]",
            "text/plain": [
              "<Figure size 1440x1440 with 5 Axes>"
            ]
          },
          "metadata": {
            "tags": []
          }
        }
      ]
    },
    {
      "cell_type": "code",
      "metadata": {
        "id": "ZPIGt3l6csl9",
        "colab": {
          "base_uri": "https://localhost:8080/",
          "height": 700
        },
        "outputId": "f531fdd7-c089-424c-83be-1040877a5d66"
      },
      "source": [
        "# visualize one number with pixel values\n",
        "def visualize_input(img, ax):\n",
        "    ax.imshow(img)\n",
        "    width, height = img.shape\n",
        "    thresh = img.max()/2.5\n",
        "    for x in range(width):\n",
        "        for y in range(height):\n",
        "            ax.annotate(str(round(img[x][y],2)), xy=(y,x),\n",
        "                        horizontalalignment='center',\n",
        "                        verticalalignment='center',\n",
        "                        color='white' if img[x][y]<thresh else 'black')\n",
        "\n",
        "fig = plt.figure(figsize = (12,12)) \n",
        "ax = fig.add_subplot(111)\n",
        "visualize_input(X_train[15].reshape(32,32), ax)"
      ],
      "execution_count": null,
      "outputs": [
        {
          "output_type": "display_data",
          "data": {
            "image/png": "[encoded data removed]",
            "text/plain": [
              "<Figure size 864x864 with 1 Axes>"
            ]
          },
          "metadata": {
            "tags": [],
            "needs_background": "light"
          }
        }
      ]
    },
    {
      "cell_type": "markdown",
      "metadata": {
        "id": "nTQRd9ZgeR_z"
      },
      "source": [
        "## Modeling the network"
      ]
    },
    {
      "cell_type": "code",
      "metadata": {
        "id": "_NNYIMXMdWC0"
      },
      "source": [
        "def network():\n",
        "    # define the model\n",
        "    # model = keras.Sequential()\n",
        "    input_shape = (32, 32, 1)\n",
        "    num_classes = 10\n",
        "\n",
        "    model = keras.Sequential([\n",
        "      layers.Conv2D(64, (3,3), padding='same', input_shape=input_shape),\n",
        "      layers.BatchNormalization(momentum=0.5, epsilon=1e-5, gamma_initializer=\"uniform\"),\n",
        "      layers.LeakyReLU(alpha=0.1),\n",
        "      layers.Conv2D(64,  (3,3), padding='same'),\n",
        "      layers.BatchNormalization(momentum=0.1, epsilon=1e-5, gamma_initializer=\"uniform\"),\n",
        "      layers.LeakyReLU(alpha=0.1),\n",
        "\n",
        "      layers.MaxPooling2D(2, 2),\n",
        "      layers.Dropout(0.2),\n",
        "      \n",
        "      layers.Conv2D(128, (3,3), padding='same'),\n",
        "      layers.BatchNormalization(momentum=0.2, epsilon=1e-5, gamma_initializer=\"uniform\"),\n",
        "      layers.LeakyReLU(alpha=0.1),\n",
        "      layers.Conv2D(128, (3,3), padding='same'),\n",
        "      layers.BatchNormalization(momentum=0.1, epsilon=1e-5, gamma_initializer=\"uniform\"),\n",
        "      layers.LeakyReLU(alpha=0.1),\n",
        "      \n",
        "      layers.MaxPooling2D(2,2),\n",
        "      layers.Dropout(0.2),    \n",
        "      \n",
        "      layers.Conv2D(256, (3,3), padding='same'),\n",
        "      layers.BatchNormalization(momentum=0.2, epsilon=1e-5, gamma_initializer=\"uniform\"),\n",
        "      layers.LeakyReLU(alpha=0.1),\n",
        "      layers.Conv2D(256, (3,3), padding='same'),\n",
        "      layers.BatchNormalization(momentum=0.1, epsilon=1e-5, gamma_initializer=\"uniform\"),\n",
        "      layers.LeakyReLU(alpha=0.1),\n",
        "\n",
        "      layers.MaxPooling2D(2,2),\n",
        "      layers.Dropout(0.2),\n",
        "      \n",
        "      layers.Flatten(),\n",
        "      layers.Dense(256),\n",
        "      layers.LeakyReLU(alpha=0.1),\n",
        "  \n",
        "      layers.BatchNormalization(),\n",
        "      layers.Dense(num_classes, activation='softmax')\n",
        "    ])\n",
        "\n",
        "    # summarize the model\n",
        "    # model.summary()\n",
        "    # keras.utils.plot_model(model, to_file='model.png')\n",
        "    return model "
      ],
      "execution_count": null,
      "outputs": []
    },
    {
      "cell_type": "code",
      "metadata": {
        "id": "bhSoMMPnerpK",
        "colab": {
          "base_uri": "https://localhost:8080/",
          "height": 429
        },
        "outputId": "4113fa44-7ab7-4961-a09f-fb3e5945a090"
      },
      "source": [
        "#Training the model\n",
        "batch_size = 512\n",
        "num_classes = 10\n",
        "epochs = 10\n",
        "model = network()\n",
        "\n",
        "model.compile(loss='categorical_crossentropy', optimizer=keras.optimizers.Adam(), metrics=['accuracy'])\n",
        "\n",
        "model.fit(X_train, y_train, batch_size=batch_size, epochs=epochs, verbose=1,validation_data=(X_test, y_test))\n",
        "\n",
        "score = model.evaluate(X_test, y_test, verbose=0)\n",
        "\n",
        "print('Test loss:', score[0])\n",
        "print('Test accuracy:', score[1])"
      ],
      "execution_count": null,
      "outputs": [
        {
          "output_type": "stream",
          "text": [
            "Epoch 1/10\n",
            " 29/118 [======>.......................] - ETA: 22s - loss: 0.2448 - accuracy: 0.9233"
          ],
          "name": "stdout"
        },
        {
          "output_type": "error",
          "ename": "KeyboardInterrupt",
          "evalue": "ignored",
          "traceback": [
            "\u001b[0;31m---------------------------------------------------------------------------\u001b[0m",
            "\u001b[0;31mKeyboardInterrupt\u001b[0m                         Traceback (most recent call last)",
            "\u001b[0;32m<ipython-input-11-24d9933c7f25>\u001b[0m in \u001b[0;36m<module>\u001b[0;34m()\u001b[0m\n\u001b[1;32m      7\u001b[0m \u001b[0mmodel\u001b[0m\u001b[0;34m.\u001b[0m\u001b[0mcompile\u001b[0m\u001b[0;34m(\u001b[0m\u001b[0mloss\u001b[0m\u001b[0;34m=\u001b[0m\u001b[0;34m'categorical_crossentropy'\u001b[0m\u001b[0;34m,\u001b[0m \u001b[0moptimizer\u001b[0m\u001b[0;34m=\u001b[0m\u001b[0mkeras\u001b[0m\u001b[0;34m.\u001b[0m\u001b[0moptimizers\u001b[0m\u001b[0;34m.\u001b[0m\u001b[0mAdam\u001b[0m\u001b[0;34m(\u001b[0m\u001b[0;34m)\u001b[0m\u001b[0;34m,\u001b[0m \u001b[0mmetrics\u001b[0m\u001b[0;34m=\u001b[0m\u001b[0;34m[\u001b[0m\u001b[0;34m'accuracy'\u001b[0m\u001b[0;34m]\u001b[0m\u001b[0;34m)\u001b[0m\u001b[0;34m\u001b[0m\u001b[0;34m\u001b[0m\u001b[0m\n\u001b[1;32m      8\u001b[0m \u001b[0;34m\u001b[0m\u001b[0m\n\u001b[0;32m----> 9\u001b[0;31m \u001b[0mmodel\u001b[0m\u001b[0;34m.\u001b[0m\u001b[0mfit\u001b[0m\u001b[0;34m(\u001b[0m\u001b[0mX_train\u001b[0m\u001b[0;34m,\u001b[0m \u001b[0my_train\u001b[0m\u001b[0;34m,\u001b[0m \u001b[0mbatch_size\u001b[0m\u001b[0;34m=\u001b[0m\u001b[0mbatch_size\u001b[0m\u001b[0;34m,\u001b[0m \u001b[0mepochs\u001b[0m\u001b[0;34m=\u001b[0m\u001b[0mepochs\u001b[0m\u001b[0;34m,\u001b[0m \u001b[0mverbose\u001b[0m\u001b[0;34m=\u001b[0m\u001b[0;36m1\u001b[0m\u001b[0;34m,\u001b[0m\u001b[0mvalidation_data\u001b[0m\u001b[0;34m=\u001b[0m\u001b[0;34m(\u001b[0m\u001b[0mX_test\u001b[0m\u001b[0;34m,\u001b[0m \u001b[0my_test\u001b[0m\u001b[0;34m)\u001b[0m\u001b[0;34m)\u001b[0m\u001b[0;34m\u001b[0m\u001b[0;34m\u001b[0m\u001b[0m\n\u001b[0m\u001b[1;32m     10\u001b[0m \u001b[0;34m\u001b[0m\u001b[0m\n\u001b[1;32m     11\u001b[0m \u001b[0mscore\u001b[0m \u001b[0;34m=\u001b[0m \u001b[0mmodel\u001b[0m\u001b[0;34m.\u001b[0m\u001b[0mevaluate\u001b[0m\u001b[0;34m(\u001b[0m\u001b[0mX_test\u001b[0m\u001b[0;34m,\u001b[0m \u001b[0my_test\u001b[0m\u001b[0;34m,\u001b[0m \u001b[0mverbose\u001b[0m\u001b[0;34m=\u001b[0m\u001b[0;36m0\u001b[0m\u001b[0;34m)\u001b[0m\u001b[0;34m\u001b[0m\u001b[0;34m\u001b[0m\u001b[0m\n",
            "\u001b[0;32m/usr/local/lib/python3.6/dist-packages/tensorflow/python/keras/engine/training.py\u001b[0m in \u001b[0;36m_method_wrapper\u001b[0;34m(self, *args, **kwargs)\u001b[0m\n\u001b[1;32m     64\u001b[0m   \u001b[0;32mdef\u001b[0m \u001b[0m_method_wrapper\u001b[0m\u001b[0;34m(\u001b[0m\u001b[0mself\u001b[0m\u001b[0;34m,\u001b[0m \u001b[0;34m*\u001b[0m\u001b[0margs\u001b[0m\u001b[0;34m,\u001b[0m \u001b[0;34m**\u001b[0m\u001b[0mkwargs\u001b[0m\u001b[0;34m)\u001b[0m\u001b[0;34m:\u001b[0m\u001b[0;34m\u001b[0m\u001b[0;34m\u001b[0m\u001b[0m\n\u001b[1;32m     65\u001b[0m     \u001b[0;32mif\u001b[0m \u001b[0;32mnot\u001b[0m \u001b[0mself\u001b[0m\u001b[0;34m.\u001b[0m\u001b[0m_in_multi_worker_mode\u001b[0m\u001b[0;34m(\u001b[0m\u001b[0;34m)\u001b[0m\u001b[0;34m:\u001b[0m  \u001b[0;31m# pylint: disable=protected-access\u001b[0m\u001b[0;34m\u001b[0m\u001b[0;34m\u001b[0m\u001b[0m\n\u001b[0;32m---> 66\u001b[0;31m       \u001b[0;32mreturn\u001b[0m \u001b[0mmethod\u001b[0m\u001b[0;34m(\u001b[0m\u001b[0mself\u001b[0m\u001b[0;34m,\u001b[0m \u001b[0;34m*\u001b[0m\u001b[0margs\u001b[0m\u001b[0;34m,\u001b[0m \u001b[0;34m**\u001b[0m\u001b[0mkwargs\u001b[0m\u001b[0;34m)\u001b[0m\u001b[0;34m\u001b[0m\u001b[0;34m\u001b[0m\u001b[0m\n\u001b[0m\u001b[1;32m     67\u001b[0m \u001b[0;34m\u001b[0m\u001b[0m\n\u001b[1;32m     68\u001b[0m     \u001b[0;31m# Running inside `run_distribute_coordinator` already.\u001b[0m\u001b[0;34m\u001b[0m\u001b[0;34m\u001b[0m\u001b[0;34m\u001b[0m\u001b[0m\n",
            "\u001b[0;32m/usr/local/lib/python3.6/dist-packages/tensorflow/python/keras/engine/training.py\u001b[0m in \u001b[0;36mfit\u001b[0;34m(self, x, y, batch_size, epochs, verbose, callbacks, validation_split, validation_data, shuffle, class_weight, sample_weight, initial_epoch, steps_per_epoch, validation_steps, validation_batch_size, validation_freq, max_queue_size, workers, use_multiprocessing)\u001b[0m\n\u001b[1;32m    846\u001b[0m                 batch_size=batch_size):\n\u001b[1;32m    847\u001b[0m               \u001b[0mcallbacks\u001b[0m\u001b[0;34m.\u001b[0m\u001b[0mon_train_batch_begin\u001b[0m\u001b[0;34m(\u001b[0m\u001b[0mstep\u001b[0m\u001b[0;34m)\u001b[0m\u001b[0;34m\u001b[0m\u001b[0;34m\u001b[0m\u001b[0m\n\u001b[0;32m--> 848\u001b[0;31m               \u001b[0mtmp_logs\u001b[0m \u001b[0;34m=\u001b[0m \u001b[0mtrain_function\u001b[0m\u001b[0;34m(\u001b[0m\u001b[0miterator\u001b[0m\u001b[0;34m)\u001b[0m\u001b[0;34m\u001b[0m\u001b[0;34m\u001b[0m\u001b[0m\n\u001b[0m\u001b[1;32m    849\u001b[0m               \u001b[0;31m# Catch OutOfRangeError for Datasets of unknown size.\u001b[0m\u001b[0;34m\u001b[0m\u001b[0;34m\u001b[0m\u001b[0;34m\u001b[0m\u001b[0m\n\u001b[1;32m    850\u001b[0m               \u001b[0;31m# This blocks until the batch has finished executing.\u001b[0m\u001b[0;34m\u001b[0m\u001b[0;34m\u001b[0m\u001b[0;34m\u001b[0m\u001b[0m\n",
            "\u001b[0;32m/usr/local/lib/python3.6/dist-packages/tensorflow/python/eager/def_function.py\u001b[0m in \u001b[0;36m__call__\u001b[0;34m(self, *args, **kwds)\u001b[0m\n\u001b[1;32m    578\u001b[0m         \u001b[0mxla_context\u001b[0m\u001b[0;34m.\u001b[0m\u001b[0mExit\u001b[0m\u001b[0;34m(\u001b[0m\u001b[0;34m)\u001b[0m\u001b[0;34m\u001b[0m\u001b[0;34m\u001b[0m\u001b[0m\n\u001b[1;32m    579\u001b[0m     \u001b[0;32melse\u001b[0m\u001b[0;34m:\u001b[0m\u001b[0;34m\u001b[0m\u001b[0;34m\u001b[0m\u001b[0m\n\u001b[0;32m--> 580\u001b[0;31m       \u001b[0mresult\u001b[0m \u001b[0;34m=\u001b[0m \u001b[0mself\u001b[0m\u001b[0;34m.\u001b[0m\u001b[0m_call\u001b[0m\u001b[0;34m(\u001b[0m\u001b[0;34m*\u001b[0m\u001b[0margs\u001b[0m\u001b[0;34m,\u001b[0m \u001b[0;34m**\u001b[0m\u001b[0mkwds\u001b[0m\u001b[0;34m)\u001b[0m\u001b[0;34m\u001b[0m\u001b[0;34m\u001b[0m\u001b[0m\n\u001b[0m\u001b[1;32m    581\u001b[0m \u001b[0;34m\u001b[0m\u001b[0m\n\u001b[1;32m    582\u001b[0m     \u001b[0;32mif\u001b[0m \u001b[0mtracing_count\u001b[0m \u001b[0;34m==\u001b[0m \u001b[0mself\u001b[0m\u001b[0;34m.\u001b[0m\u001b[0m_get_tracing_count\u001b[0m\u001b[0;34m(\u001b[0m\u001b[0;34m)\u001b[0m\u001b[0;34m:\u001b[0m\u001b[0;34m\u001b[0m\u001b[0;34m\u001b[0m\u001b[0m\n",
            "\u001b[0;32m/usr/local/lib/python3.6/dist-packages/tensorflow/python/eager/def_function.py\u001b[0m in \u001b[0;36m_call\u001b[0;34m(self, *args, **kwds)\u001b[0m\n\u001b[1;32m    609\u001b[0m       \u001b[0;31m# In this case we have created variables on the first call, so we run the\u001b[0m\u001b[0;34m\u001b[0m\u001b[0;34m\u001b[0m\u001b[0;34m\u001b[0m\u001b[0m\n\u001b[1;32m    610\u001b[0m       \u001b[0;31m# defunned version which is guaranteed to never create variables.\u001b[0m\u001b[0;34m\u001b[0m\u001b[0;34m\u001b[0m\u001b[0;34m\u001b[0m\u001b[0m\n\u001b[0;32m--> 611\u001b[0;31m       \u001b[0;32mreturn\u001b[0m \u001b[0mself\u001b[0m\u001b[0;34m.\u001b[0m\u001b[0m_stateless_fn\u001b[0m\u001b[0;34m(\u001b[0m\u001b[0;34m*\u001b[0m\u001b[0margs\u001b[0m\u001b[0;34m,\u001b[0m \u001b[0;34m**\u001b[0m\u001b[0mkwds\u001b[0m\u001b[0;34m)\u001b[0m  \u001b[0;31m# pylint: disable=not-callable\u001b[0m\u001b[0;34m\u001b[0m\u001b[0;34m\u001b[0m\u001b[0m\n\u001b[0m\u001b[1;32m    612\u001b[0m     \u001b[0;32melif\u001b[0m \u001b[0mself\u001b[0m\u001b[0;34m.\u001b[0m\u001b[0m_stateful_fn\u001b[0m \u001b[0;32mis\u001b[0m \u001b[0;32mnot\u001b[0m \u001b[0;32mNone\u001b[0m\u001b[0;34m:\u001b[0m\u001b[0;34m\u001b[0m\u001b[0;34m\u001b[0m\u001b[0m\n\u001b[1;32m    613\u001b[0m       \u001b[0;31m# Release the lock early so that multiple threads can perform the call\u001b[0m\u001b[0;34m\u001b[0m\u001b[0;34m\u001b[0m\u001b[0;34m\u001b[0m\u001b[0m\n",
            "\u001b[0;32m/usr/local/lib/python3.6/dist-packages/tensorflow/python/eager/function.py\u001b[0m in \u001b[0;36m__call__\u001b[0;34m(self, *args, **kwargs)\u001b[0m\n\u001b[1;32m   2418\u001b[0m     \u001b[0;32mwith\u001b[0m \u001b[0mself\u001b[0m\u001b[0;34m.\u001b[0m\u001b[0m_lock\u001b[0m\u001b[0;34m:\u001b[0m\u001b[0;34m\u001b[0m\u001b[0;34m\u001b[0m\u001b[0m\n\u001b[1;32m   2419\u001b[0m       \u001b[0mgraph_function\u001b[0m\u001b[0;34m,\u001b[0m \u001b[0margs\u001b[0m\u001b[0;34m,\u001b[0m \u001b[0mkwargs\u001b[0m \u001b[0;34m=\u001b[0m \u001b[0mself\u001b[0m\u001b[0;34m.\u001b[0m\u001b[0m_maybe_define_function\u001b[0m\u001b[0;34m(\u001b[0m\u001b[0margs\u001b[0m\u001b[0;34m,\u001b[0m \u001b[0mkwargs\u001b[0m\u001b[0;34m)\u001b[0m\u001b[0;34m\u001b[0m\u001b[0;34m\u001b[0m\u001b[0m\n\u001b[0;32m-> 2420\u001b[0;31m     \u001b[0;32mreturn\u001b[0m \u001b[0mgraph_function\u001b[0m\u001b[0;34m.\u001b[0m\u001b[0m_filtered_call\u001b[0m\u001b[0;34m(\u001b[0m\u001b[0margs\u001b[0m\u001b[0;34m,\u001b[0m \u001b[0mkwargs\u001b[0m\u001b[0;34m)\u001b[0m  \u001b[0;31m# pylint: disable=protected-access\u001b[0m\u001b[0;34m\u001b[0m\u001b[0;34m\u001b[0m\u001b[0m\n\u001b[0m\u001b[1;32m   2421\u001b[0m \u001b[0;34m\u001b[0m\u001b[0m\n\u001b[1;32m   2422\u001b[0m   \u001b[0;34m@\u001b[0m\u001b[0mproperty\u001b[0m\u001b[0;34m\u001b[0m\u001b[0;34m\u001b[0m\u001b[0m\n",
            "\u001b[0;32m/usr/local/lib/python3.6/dist-packages/tensorflow/python/eager/function.py\u001b[0m in \u001b[0;36m_filtered_call\u001b[0;34m(self, args, kwargs)\u001b[0m\n\u001b[1;32m   1663\u001b[0m          if isinstance(t, (ops.Tensor,\n\u001b[1;32m   1664\u001b[0m                            resource_variable_ops.BaseResourceVariable))),\n\u001b[0;32m-> 1665\u001b[0;31m         self.captured_inputs)\n\u001b[0m\u001b[1;32m   1666\u001b[0m \u001b[0;34m\u001b[0m\u001b[0m\n\u001b[1;32m   1667\u001b[0m   \u001b[0;32mdef\u001b[0m \u001b[0m_call_flat\u001b[0m\u001b[0;34m(\u001b[0m\u001b[0mself\u001b[0m\u001b[0;34m,\u001b[0m \u001b[0margs\u001b[0m\u001b[0;34m,\u001b[0m \u001b[0mcaptured_inputs\u001b[0m\u001b[0;34m,\u001b[0m \u001b[0mcancellation_manager\u001b[0m\u001b[0;34m=\u001b[0m\u001b[0;32mNone\u001b[0m\u001b[0;34m)\u001b[0m\u001b[0;34m:\u001b[0m\u001b[0;34m\u001b[0m\u001b[0;34m\u001b[0m\u001b[0m\n",
            "\u001b[0;32m/usr/local/lib/python3.6/dist-packages/tensorflow/python/eager/function.py\u001b[0m in \u001b[0;36m_call_flat\u001b[0;34m(self, args, captured_inputs, cancellation_manager)\u001b[0m\n\u001b[1;32m   1744\u001b[0m       \u001b[0;31m# No tape is watching; skip to running the function.\u001b[0m\u001b[0;34m\u001b[0m\u001b[0;34m\u001b[0m\u001b[0;34m\u001b[0m\u001b[0m\n\u001b[1;32m   1745\u001b[0m       return self._build_call_outputs(self._inference_function.call(\n\u001b[0;32m-> 1746\u001b[0;31m           ctx, args, cancellation_manager=cancellation_manager))\n\u001b[0m\u001b[1;32m   1747\u001b[0m     forward_backward = self._select_forward_and_backward_functions(\n\u001b[1;32m   1748\u001b[0m         \u001b[0margs\u001b[0m\u001b[0;34m,\u001b[0m\u001b[0;34m\u001b[0m\u001b[0;34m\u001b[0m\u001b[0m\n",
            "\u001b[0;32m/usr/local/lib/python3.6/dist-packages/tensorflow/python/eager/function.py\u001b[0m in \u001b[0;36mcall\u001b[0;34m(self, ctx, args, cancellation_manager)\u001b[0m\n\u001b[1;32m    596\u001b[0m               \u001b[0minputs\u001b[0m\u001b[0;34m=\u001b[0m\u001b[0margs\u001b[0m\u001b[0;34m,\u001b[0m\u001b[0;34m\u001b[0m\u001b[0;34m\u001b[0m\u001b[0m\n\u001b[1;32m    597\u001b[0m               \u001b[0mattrs\u001b[0m\u001b[0;34m=\u001b[0m\u001b[0mattrs\u001b[0m\u001b[0;34m,\u001b[0m\u001b[0;34m\u001b[0m\u001b[0;34m\u001b[0m\u001b[0m\n\u001b[0;32m--> 598\u001b[0;31m               ctx=ctx)\n\u001b[0m\u001b[1;32m    599\u001b[0m         \u001b[0;32melse\u001b[0m\u001b[0;34m:\u001b[0m\u001b[0;34m\u001b[0m\u001b[0;34m\u001b[0m\u001b[0m\n\u001b[1;32m    600\u001b[0m           outputs = execute.execute_with_cancellation(\n",
            "\u001b[0;32m/usr/local/lib/python3.6/dist-packages/tensorflow/python/eager/execute.py\u001b[0m in \u001b[0;36mquick_execute\u001b[0;34m(op_name, num_outputs, inputs, attrs, ctx, name)\u001b[0m\n\u001b[1;32m     58\u001b[0m     \u001b[0mctx\u001b[0m\u001b[0;34m.\u001b[0m\u001b[0mensure_initialized\u001b[0m\u001b[0;34m(\u001b[0m\u001b[0;34m)\u001b[0m\u001b[0;34m\u001b[0m\u001b[0;34m\u001b[0m\u001b[0m\n\u001b[1;32m     59\u001b[0m     tensors = pywrap_tfe.TFE_Py_Execute(ctx._handle, device_name, op_name,\n\u001b[0;32m---> 60\u001b[0;31m                                         inputs, attrs, num_outputs)\n\u001b[0m\u001b[1;32m     61\u001b[0m   \u001b[0;32mexcept\u001b[0m \u001b[0mcore\u001b[0m\u001b[0;34m.\u001b[0m\u001b[0m_NotOkStatusException\u001b[0m \u001b[0;32mas\u001b[0m \u001b[0me\u001b[0m\u001b[0;34m:\u001b[0m\u001b[0;34m\u001b[0m\u001b[0;34m\u001b[0m\u001b[0m\n\u001b[1;32m     62\u001b[0m     \u001b[0;32mif\u001b[0m \u001b[0mname\u001b[0m \u001b[0;32mis\u001b[0m \u001b[0;32mnot\u001b[0m \u001b[0;32mNone\u001b[0m\u001b[0;34m:\u001b[0m\u001b[0;34m\u001b[0m\u001b[0;34m\u001b[0m\u001b[0m\n",
            "\u001b[0;31mKeyboardInterrupt\u001b[0m: "
          ]
        }
      ]
    },
    {
      "cell_type": "markdown",
      "metadata": {
        "id": "V_ClXu4LlQ7K"
      },
      "source": [
        "## Convert the model to coreml\n"
      ]
    },
    {
      "cell_type": "code",
      "metadata": {
        "id": "AJokoGNuo3Ji",
        "colab": {
          "base_uri": "https://localhost:8080/",
          "height": 751
        },
        "outputId": "e9dc6e5a-b18e-44cd-ca69-f50837808b61"
      },
      "source": [
        "# Install tfcoreml\n",
        "!pip install --upgrade tfcoreml\n",
        "!pip install --upgrade coremltools\n",
        "\n",
        "# https://github.com/tf-coreml/tf-coreml/issues/281"
      ],
      "execution_count": null,
      "outputs": [
        {
          "output_type": "stream",
          "text": [
            "Requirement already up-to-date: tfcoreml in /usr/local/lib/python3.6/dist-packages (1.1)\n",
            "Requirement already satisfied, skipping upgrade: numpy>=1.6.2 in /usr/local/lib/python3.6/dist-packages (from tfcoreml) (1.18.3)\n",
            "Requirement already satisfied, skipping upgrade: protobuf>=3.1.0 in /usr/local/lib/python3.6/dist-packages (from tfcoreml) (3.10.0)\n",
            "Requirement already satisfied, skipping upgrade: six>=1.10.0 in /usr/local/lib/python3.6/dist-packages (from tfcoreml) (1.12.0)\n",
            "Requirement already satisfied, skipping upgrade: coremltools>=0.8 in /usr/local/lib/python3.6/dist-packages (from tfcoreml) (3.3)\n",
            "Requirement already satisfied, skipping upgrade: tensorflow>=1.5.0 in /usr/local/lib/python3.6/dist-packages (from tfcoreml) (2.2.0rc4)\n",
            "Requirement already satisfied, skipping upgrade: setuptools in /usr/local/lib/python3.6/dist-packages (from protobuf>=3.1.0->tfcoreml) (46.1.3)\n",
            "Requirement already satisfied, skipping upgrade: termcolor>=1.1.0 in /usr/local/lib/python3.6/dist-packages (from tensorflow>=1.5.0->tfcoreml) (1.1.0)\n",
            "Requirement already satisfied, skipping upgrade: tensorflow-estimator<2.3.0,>=2.2.0 in /usr/local/lib/python3.6/dist-packages (from tensorflow>=1.5.0->tfcoreml) (2.2.0)\n",
            "Requirement already satisfied, skipping upgrade: h5py<2.11.0,>=2.10.0 in /usr/local/lib/python3.6/dist-packages (from tensorflow>=1.5.0->tfcoreml) (2.10.0)\n",
            "Requirement already satisfied, skipping upgrade: keras-preprocessing>=1.1.0 in /usr/local/lib/python3.6/dist-packages (from tensorflow>=1.5.0->tfcoreml) (1.1.0)\n",
            "Requirement already satisfied, skipping upgrade: gast==0.3.3 in /usr/local/lib/python3.6/dist-packages (from tensorflow>=1.5.0->tfcoreml) (0.3.3)\n",
            "Requirement already satisfied, skipping upgrade: wheel>=0.26; python_version >= \"3\" in /usr/local/lib/python3.6/dist-packages (from tensorflow>=1.5.0->tfcoreml) (0.34.2)\n",
            "Requirement already satisfied, skipping upgrade: wrapt>=1.11.1 in /usr/local/lib/python3.6/dist-packages (from tensorflow>=1.5.0->tfcoreml) (1.12.1)\n",
            "Requirement already satisfied, skipping upgrade: google-pasta>=0.1.8 in /usr/local/lib/python3.6/dist-packages (from tensorflow>=1.5.0->tfcoreml) (0.2.0)\n",
            "Requirement already satisfied, skipping upgrade: tensorboard<2.3.0,>=2.2.0 in /usr/local/lib/python3.6/dist-packages (from tensorflow>=1.5.0->tfcoreml) (2.2.1)\n",
            "Requirement already satisfied, skipping upgrade: scipy==1.4.1; python_version >= \"3\" in /usr/local/lib/python3.6/dist-packages (from tensorflow>=1.5.0->tfcoreml) (1.4.1)\n",
            "Requirement already satisfied, skipping upgrade: absl-py>=0.7.0 in /usr/local/lib/python3.6/dist-packages (from tensorflow>=1.5.0->tfcoreml) (0.9.0)\n",
            "Requirement already satisfied, skipping upgrade: grpcio>=1.8.6 in /usr/local/lib/python3.6/dist-packages (from tensorflow>=1.5.0->tfcoreml) (1.28.1)\n",
            "Requirement already satisfied, skipping upgrade: opt-einsum>=2.3.2 in /usr/local/lib/python3.6/dist-packages (from tensorflow>=1.5.0->tfcoreml) (3.2.1)\n",
            "Requirement already satisfied, skipping upgrade: astunparse==1.6.3 in /usr/local/lib/python3.6/dist-packages (from tensorflow>=1.5.0->tfcoreml) (1.6.3)\n",
            "Requirement already satisfied, skipping upgrade: google-auth<2,>=1.6.3 in /usr/local/lib/python3.6/dist-packages (from tensorboard<2.3.0,>=2.2.0->tensorflow>=1.5.0->tfcoreml) (1.7.2)\n",
            "Requirement already satisfied, skipping upgrade: markdown>=2.6.8 in /usr/local/lib/python3.6/dist-packages (from tensorboard<2.3.0,>=2.2.0->tensorflow>=1.5.0->tfcoreml) (3.2.1)\n",
            "Requirement already satisfied, skipping upgrade: werkzeug>=0.11.15 in /usr/local/lib/python3.6/dist-packages (from tensorboard<2.3.0,>=2.2.0->tensorflow>=1.5.0->tfcoreml) (1.0.1)\n",
            "Requirement already satisfied, skipping upgrade: requests<3,>=2.21.0 in /usr/local/lib/python3.6/dist-packages (from tensorboard<2.3.0,>=2.2.0->tensorflow>=1.5.0->tfcoreml) (2.23.0)\n",
            "Requirement already satisfied, skipping upgrade: tensorboard-plugin-wit>=1.6.0 in /usr/local/lib/python3.6/dist-packages (from tensorboard<2.3.0,>=2.2.0->tensorflow>=1.5.0->tfcoreml) (1.6.0.post3)\n",
            "Requirement already satisfied, skipping upgrade: google-auth-oauthlib<0.5,>=0.4.1 in /usr/local/lib/python3.6/dist-packages (from tensorboard<2.3.0,>=2.2.0->tensorflow>=1.5.0->tfcoreml) (0.4.1)\n",
            "Requirement already satisfied, skipping upgrade: pyasn1-modules>=0.2.1 in /usr/local/lib/python3.6/dist-packages (from google-auth<2,>=1.6.3->tensorboard<2.3.0,>=2.2.0->tensorflow>=1.5.0->tfcoreml) (0.2.8)\n",
            "Requirement already satisfied, skipping upgrade: cachetools<3.2,>=2.0.0 in /usr/local/lib/python3.6/dist-packages (from google-auth<2,>=1.6.3->tensorboard<2.3.0,>=2.2.0->tensorflow>=1.5.0->tfcoreml) (3.1.1)\n",
            "Requirement already satisfied, skipping upgrade: rsa<4.1,>=3.1.4 in /usr/local/lib/python3.6/dist-packages (from google-auth<2,>=1.6.3->tensorboard<2.3.0,>=2.2.0->tensorflow>=1.5.0->tfcoreml) (4.0)\n",
            "Requirement already satisfied, skipping upgrade: certifi>=2017.4.17 in /usr/local/lib/python3.6/dist-packages (from requests<3,>=2.21.0->tensorboard<2.3.0,>=2.2.0->tensorflow>=1.5.0->tfcoreml) (2020.4.5.1)\n",
            "Requirement already satisfied, skipping upgrade: chardet<4,>=3.0.2 in /usr/local/lib/python3.6/dist-packages (from requests<3,>=2.21.0->tensorboard<2.3.0,>=2.2.0->tensorflow>=1.5.0->tfcoreml) (3.0.4)\n",
            "Requirement already satisfied, skipping upgrade: urllib3!=1.25.0,!=1.25.1,<1.26,>=1.21.1 in /usr/local/lib/python3.6/dist-packages (from requests<3,>=2.21.0->tensorboard<2.3.0,>=2.2.0->tensorflow>=1.5.0->tfcoreml) (1.24.3)\n",
            "Requirement already satisfied, skipping upgrade: idna<3,>=2.5 in /usr/local/lib/python3.6/dist-packages (from requests<3,>=2.21.0->tensorboard<2.3.0,>=2.2.0->tensorflow>=1.5.0->tfcoreml) (2.9)\n",
            "Requirement already satisfied, skipping upgrade: requests-oauthlib>=0.7.0 in /usr/local/lib/python3.6/dist-packages (from google-auth-oauthlib<0.5,>=0.4.1->tensorboard<2.3.0,>=2.2.0->tensorflow>=1.5.0->tfcoreml) (1.3.0)\n",
            "Requirement already satisfied, skipping upgrade: pyasn1<0.5.0,>=0.4.6 in /usr/local/lib/python3.6/dist-packages (from pyasn1-modules>=0.2.1->google-auth<2,>=1.6.3->tensorboard<2.3.0,>=2.2.0->tensorflow>=1.5.0->tfcoreml) (0.4.8)\n",
            "Requirement already satisfied, skipping upgrade: oauthlib>=3.0.0 in /usr/local/lib/python3.6/dist-packages (from requests-oauthlib>=0.7.0->google-auth-oauthlib<0.5,>=0.4.1->tensorboard<2.3.0,>=2.2.0->tensorflow>=1.5.0->tfcoreml) (3.1.0)\n",
            "Requirement already up-to-date: coremltools in /usr/local/lib/python3.6/dist-packages (3.3)\n",
            "Requirement already satisfied, skipping upgrade: six>=1.10.0 in /usr/local/lib/python3.6/dist-packages (from coremltools) (1.12.0)\n",
            "Requirement already satisfied, skipping upgrade: numpy>=1.14.5 in /usr/local/lib/python3.6/dist-packages (from coremltools) (1.18.3)\n",
            "Requirement already satisfied, skipping upgrade: protobuf>=3.1.0 in /usr/local/lib/python3.6/dist-packages (from coremltools) (3.10.0)\n",
            "Requirement already satisfied, skipping upgrade: setuptools in /usr/local/lib/python3.6/dist-packages (from protobuf>=3.1.0->coremltools) (46.1.3)\n"
          ],
          "name": "stdout"
        }
      ]
    },
    {
      "cell_type": "code",
      "metadata": {
        "id": "IqkxF0DKrBm7",
        "colab": {
          "base_uri": "https://localhost:8080/",
          "height": 71
        },
        "outputId": "8be91913-4891-44ac-8abe-c1624dc8ec75"
      },
      "source": [
        "import tfcoreml\n",
        "\n",
        "# save the tf.keras model as .h5 model file\n",
        "model_file = 'keras_hoda_model.h5'\n",
        "model.save(model_file)"
      ],
      "execution_count": null,
      "outputs": [
        {
          "output_type": "stream",
          "text": [
            "WARNING:root:TensorFlow version 2.2.0-rc4 detected. Last version known to be fully compatible is 1.14.0 .\n",
            "WARNING:root:Keras version 2.3.1 detected. Last version known to be fully compatible of Keras is 2.2.4 .\n"
          ],
          "name": "stderr"
        }
      ]
    },
    {
      "cell_type": "code",
      "metadata": {
        "id": "Og5eXuAttXEP",
        "colab": {
          "base_uri": "https://localhost:8080/",
          "height": 768
        },
        "outputId": "8c798901-f5af-49a4-d830-3745525ad032"
      },
      "source": [
        "# get input, output node names for the TF graph from the Keras model\n",
        "input_name = model.inputs[0].name.split(':')[0]\n",
        "keras_output_node_name = model.outputs[0].name.split(':')[0]\n",
        "graph_output_node_name = keras_output_node_name.split('/')[-1]\n",
        "\n",
        "# convert this model to Core ML format\n",
        "keras_model = tfcoreml.convert(tf_model_path=model_file,\n",
        "                               input_name_shape_dict={input_name: [1, 32, 32, 1]},\n",
        "                               image_input_names=[input_name],\n",
        "                               output_feature_names=[graph_output_node_name],\n",
        "                               minimum_ios_deployment_target='13',\n",
        "                               class_labels=['0', '1', '2', '3', '4', '5', '6', '7', '8', '9']\n",
        "                              )\n",
        "                         \n",
        "keras_model.save('KerasModel.mlmodel')\n"
      ],
      "execution_count": null,
      "outputs": [
        {
          "output_type": "stream",
          "text": [
            "0 assert nodes deleted\n",
            "52 nodes deleted\n",
            "18 nodes deleted\n",
            "0 nodes deleted\n",
            "[Op Fusion] fuse_bias_add() deleted 16 nodes.\n",
            "2 identity nodes deleted\n",
            "8 disconnected nodes deleted\n",
            "[Op Fusion] Fused 36 nodes into BatchNorms.\n",
            "[SSAConverter] Converting function main ...\n",
            "[SSAConverter] [1/34] Converting op type: 'Placeholder', name: 'conv2d_input', output_shape: (1, 32, 32, 1).\n",
            "[SSAConverter] [2/34] Converting op type: 'Const', name: 'sequential/flatten/Const', output_shape: (2,).\n",
            "[SSAConverter] [3/34] Converting op type: 'Const', name: 'sequential/batch_normalization_6/batchnorm/mul', output_shape: (256,).\n",
            "[SSAConverter] [4/34] Converting op type: 'Const', name: 'sequential/batch_normalization_6/batchnorm/sub', output_shape: (256,).\n",
            "[SSAConverter] [5/34] Converting op type: 'Transpose', name: 'conv2d_input_to_nchw', output_shape: (1, 1, 32, 32).\n",
            "[SSAConverter] [6/34] Converting op type: 'Conv2D', name: 'sequential/conv2d/Conv2D', output_shape: (1, 64, 32, 32).\n",
            "[SSAConverter] [7/34] Converting op type: 'BatchNorm', name: 'sequential/batch_normalization/FusedBatchNormV3/Add_batch_norm', output_shape: (1, 64, 32, 32).\n",
            "[SSAConverter] [8/34] Converting op type: 'LeakyRelu', name: 'sequential/leaky_re_lu/LeakyRelu', output_shape: (1, 64, 32, 32).\n",
            "[SSAConverter] [9/34] Converting op type: 'Conv2D', name: 'sequential/conv2d_1/Conv2D', output_shape: (1, 64, 32, 32).\n",
            "[SSAConverter] [10/34] Converting op type: 'BatchNorm', name: 'sequential/batch_normalization_1/FusedBatchNormV3/Add_batch_norm', output_shape: (1, 64, 32, 32).\n",
            "[SSAConverter] [11/34] Converting op type: 'LeakyRelu', name: 'sequential/leaky_re_lu_1/LeakyRelu', output_shape: (1, 64, 32, 32).\n",
            "[SSAConverter] [12/34] Converting op type: 'MaxPool', name: 'sequential/max_pooling2d/MaxPool', output_shape: (1, 64, -1, -1).\n",
            "[SSAConverter] [13/34] Converting op type: 'Conv2D', name: 'sequential/conv2d_2/Conv2D', output_shape: (1, 128, -1, -1).\n",
            "[SSAConverter] [14/34] Converting op type: 'BatchNorm', name: 'sequential/batch_normalization_2/FusedBatchNormV3/Add_batch_norm', output_shape: (1, 128, -1, -1).\n",
            "[SSAConverter] [15/34] Converting op type: 'LeakyRelu', name: 'sequential/leaky_re_lu_2/LeakyRelu', output_shape: (1, 128, -1, -1).\n",
            "[SSAConverter] [16/34] Converting op type: 'Conv2D', name: 'sequential/conv2d_3/Conv2D', output_shape: (1, 128, -1, -1).\n",
            "[SSAConverter] [17/34] Converting op type: 'BatchNorm', name: 'sequential/batch_normalization_3/FusedBatchNormV3/Add_batch_norm', output_shape: (1, 128, -1, -1).\n",
            "[SSAConverter] [18/34] Converting op type: 'LeakyRelu', name: 'sequential/leaky_re_lu_3/LeakyRelu', output_shape: (1, 128, -1, -1).\n",
            "[SSAConverter] [19/34] Converting op type: 'MaxPool', name: 'sequential/max_pooling2d_1/MaxPool', output_shape: (1, 128, -1, -1).\n",
            "[SSAConverter] [20/34] Converting op type: 'Conv2D', name: 'sequential/conv2d_4/Conv2D', output_shape: (1, 256, -1, -1).\n",
            "[SSAConverter] [21/34] Converting op type: 'BatchNorm', name: 'sequential/batch_normalization_4/FusedBatchNormV3/Add_batch_norm', output_shape: (1, 256, -1, -1).\n",
            "[SSAConverter] [22/34] Converting op type: 'LeakyRelu', name: 'sequential/leaky_re_lu_4/LeakyRelu', output_shape: (1, 256, -1, -1).\n",
            "[SSAConverter] [23/34] Converting op type: 'Conv2D', name: 'sequential/conv2d_5/Conv2D', output_shape: (1, 256, -1, -1).\n",
            "[SSAConverter] [24/34] Converting op type: 'BatchNorm', name: 'sequential/batch_normalization_5/FusedBatchNormV3/Add_batch_norm', output_shape: (1, 256, -1, -1).\n",
            "[SSAConverter] [25/34] Converting op type: 'LeakyRelu', name: 'sequential/leaky_re_lu_5/LeakyRelu', output_shape: (1, 256, -1, -1).\n",
            "[SSAConverter] [26/34] Converting op type: 'MaxPool', name: 'sequential/max_pooling2d_2/MaxPool', output_shape: (1, 256, -1, -1).\n",
            "[SSAConverter] [27/34] Converting op type: 'Transpose', name: 'sequential/max_pooling2d_2/MaxPool_to_nhwc', output_shape: (1, -1, -1, 256).\n",
            "[SSAConverter] [28/34] Converting op type: 'Reshape', name: 'sequential/flatten/Reshape', output_shape: (1, 4096).\n",
            "[SSAConverter] [29/34] Converting op type: 'MatMul', name: 'sequential/dense/MatMul', output_shape: (1, 256).\n",
            "[SSAConverter] [30/34] Converting op type: 'LeakyRelu', name: 'sequential/leaky_re_lu_6/LeakyRelu', output_shape: (1, 256).\n",
            "[SSAConverter] [31/34] Converting op type: 'Mul', name: 'sequential/batch_normalization_6/batchnorm/mul_1', output_shape: (1, 256).\n",
            "[SSAConverter] [32/34] Converting op type: 'AddV2', name: 'sequential/batch_normalization_6/batchnorm/add_1', output_shape: (1, 256).\n",
            "[SSAConverter] [33/34] Converting op type: 'MatMul', name: 'sequential/dense_1/MatMul', output_shape: (1, 10).\n",
            "[SSAConverter] [34/34] Converting op type: 'Softmax', name: 'Identity', output_shape: (1, 10).\n"
          ],
          "name": "stdout"
        }
      ]
    },
    {
      "cell_type": "code",
      "metadata": {
        "id": "A00wPOWp2Vf1"
      },
      "source": [
        "# https://developer.apple.com/documentation/vision/recognizing_objects_in_live_capture"
      ],
      "execution_count": null,
      "outputs": []
    },
    {
      "cell_type": "code",
      "metadata": {
        "id": "pW7yOzDpF7tj"
      },
      "source": [
        ""
      ],
      "execution_count": null,
      "outputs": []
    }
  ]
}